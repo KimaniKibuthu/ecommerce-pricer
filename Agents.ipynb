{
 "cells": [
  {
   "cell_type": "markdown",
   "metadata": {},
   "source": [
    "# Price Discovery Project Using Agents"
   ]
  },
  {
   "cell_type": "markdown",
   "metadata": {},
   "source": [
    "For this project to run you will need to install langchain as well as its dependancies. You will also need to have a google api key as well as a SerpAPI key."
   ]
  },
  {
   "cell_type": "markdown",
   "metadata": {},
   "source": [
    "## Create agent for retrieval"
   ]
  },
  {
   "cell_type": "code",
   "execution_count": 180,
   "metadata": {},
   "outputs": [],
   "source": [
    "# Iport the necessary libraries\n",
    "import os\n",
    "from langchain.tools.retriever import create_retriever_tool\n",
    "from langchain.agents.load_tools import load_tools\n",
    "from langchain.agents import AgentExecutor, Tool, create_structured_chat_agent, create_react_agent, create_self_ask_with_search_agent\n",
    "from langchain_community.utilities import SearchApiAPIWrapper, SerpAPIWrapper\n",
    "from langchain import hub\n",
    "from langchain_google_genai import ChatGoogleGenerativeAI\n",
    "from langchain.prompts import PromptTemplate, ChatPromptTemplate\n",
    "from langchain_community.tools.google_lens import GoogleLensQueryRun\n",
    "from langchain_community.utilities.google_lens import GoogleLensAPIWrapper\n",
    "from langchain_community.utilities import GoogleSearchAPIWrapper"
   ]
  },
  {
   "cell_type": "code",
   "execution_count": 37,
   "metadata": {},
   "outputs": [],
   "source": [
    "# Load LLM and Google API key\n",
    "GOOGLE_API_KEY = \"\"  \n",
    "os.environ[\"GOOGLE_API_KEY\"] = GOOGLE_API_KEY\n",
    "\n",
    "llm = ChatGoogleGenerativeAI(model=\"gemini-pro\", google_api_key=GOOGLE_API_KEY)"
   ]
  },
  {
   "cell_type": "code",
   "execution_count": 77,
   "metadata": {},
   "outputs": [],
   "source": [
    "# Load Serp API key\n",
    "serp_api_key = \"\"\n",
    "os.environ[\"SERPAPI_API_KEY\"] = serp_api_key"
   ]
  },
  {
   "cell_type": "code",
   "execution_count": 250,
   "metadata": {},
   "outputs": [],
   "source": [
    "# Create test prompt to be used with the agent\n",
    "test_prompt = \"\"\"\n",
    "    \n",
    "As an experienced product analyst adept at accurately determining product price ranges,\n",
    "utilize the available tools {tools} to answer the question asked. \n",
    "Return ONLY a reasonable, accurate and concise price range for my product after analysing its current pricing\n",
    "and that of a similar products. \n",
    "\n",
    "    Use the following format:\n",
    "\n",
    "    Question: the input question you must answer\n",
    "    Thought: you should always think about what to do\n",
    "    Action: the action to take, should be one of [{tool_names}]\n",
    "    Action Input: the input to the action\n",
    "    Observation: the result of the action\n",
    "    ... (this Thought/Action/Action Input/Observation can repeat N times). If no result is found use your own knowledge\n",
    "    Thought: I now know the final answer\n",
    "    Final Answer: the final answer to the original input question\n",
    "\n",
    "    Begin!\n",
    "\n",
    "    Question: {input}\n",
    "    Thought: {agent_scratchpad}\n",
    "\"\"\"\n",
    "\n",
    "test_prompt_template = PromptTemplate.from_template(test_prompt)"
   ]
  },
  {
   "cell_type": "code",
   "execution_count": 246,
   "metadata": {},
   "outputs": [],
   "source": [
    "# Create tools to be used with by the agent\n",
    "search = SerpAPIWrapper()\n",
    "# tool_text = create_retriever_tool(text_retriever,\n",
    "#                                      'retrieve from text db',\n",
    "#                                      'Searches the product description for the product given the product description' )\n",
    "toolz = [\n",
    "    Tool(\n",
    "    name=\"search item\",\n",
    "    description=\"Searches for product price using product description\",\n",
    "    func=search.run\n",
    "),\n",
    "    Tool(\n",
    "    name=\"search image\",\n",
    "    description=\"Searches for product price using image url\",\n",
    "    func=search.run\n",
    "    ),\n",
    "    \n",
    "     \n",
    "]"
   ]
  },
  {
   "cell_type": "code",
   "execution_count": 252,
   "metadata": {},
   "outputs": [],
   "source": [
    "# Instantiate agent and agent executor\n",
    "serp_agent = create_react_agent(llm, toolz, test_prompt_template)\n",
    "serp_agent_executor = AgentExecutor(agent=serp_agent, tools=toolz, verbose=True, handle_parsing_errors=True)"
   ]
  },
  {
   "cell_type": "code",
   "execution_count": 253,
   "metadata": {},
   "outputs": [],
   "source": [
    "# Image description and URL\n",
    "description = \"iHaHa Fire Truck Toys for 1 2 3 4 5 6 Years Old Boys Toddler, 5 in 1 Kids Carrier Toy Birthday, Car Friction Power Toys with Light Sound\"\n",
    "image_url = \"https://m.media-amazon.com/images/I/81nq8H2IlyL._AC_UL320_.jpg\""
   ]
  },
  {
   "cell_type": "code",
   "execution_count": 254,
   "metadata": {},
   "outputs": [
    {
     "name": "stdout",
     "output_type": "stream",
     "text": [
      "\n",
      "\n",
      "\u001b[1m> Entering new AgentExecutor chain...\u001b[0m\n"
     ]
    },
    {
     "name": "stdout",
     "output_type": "stream",
     "text": [
      "\u001b[32;1m\u001b[1;3mAction: search item\n",
      "Action Input: iHaHa Fire Truck Toys for 1 2 3 4 5 6 Years Old Boys Toddler, 5 in 1 Kids Carrier Toy Birthday, Car Friction Power Toys with Light Sound \u001b[0m\u001b[36;1m\u001b[1;3m['Fire Truck Toys for 1 2 3 4 5 6 Years Old Boys Toddler, 5 in 1 Kids Carrier Toy Birthday, Car Friction Power Toys with Light Sound ; Buy Both: $00$00 ; Important ...', '【5 in 1 Construction Cartoon Car Trucks Toy】- This trucks cars toys for 1 2 3 4 5 year old boys includes a larger construction carrier truck and a small ...', \"【Safe & Durable】 - This fire car truck toys for toddlers boys is made of safe high quality plastic with rounded edges, no corners, no burrs, so don't worry ...\", 'iHaHa Fire Truck Toys for 1 2 3 4 5 6 Years Old Boys Toddler, 5 in 1 Kids Carrier Toy Birthday, Car Friction Power Toys with Light Sound. Item #: 73290918.', 'iHaHa Fire Truck Toys for 1 2 3 4 5 6 Years Old Boys Toddler, 5 in 1 Kids Carrier Toy Birthday, Car Friction Power Toys with Light Sound.', 'Shop iHaHa Fire Truck Toys for 1 2 3 4 5 6 Years Old Boys Toddler, 5 in 1 Kids Carrier Toy Birthday, Car Friction Power Toys with Light Sound online at best ...', \"Safe & Durable: Fire car truck toys for toddlers boys is made of safe high quality plastic with rounded edges, no corners, no burrs, so don't worry about ...\", 'Toys for 1 2 3 4 Year Old Boy Girl, 5 in 1 Toy Trucks for Boys Age 2-3 with 4 Dinosaur Toy Cars for Toddlers 1-3, Friction Powered Toddler Boy Toys Dinosaur ...', '5 IN 1 TOYS SET - The toddler toys set includes 1 large colorful transport toy trucks, a mini airplane, a small Taxi, a small bus and a middle bus.']\u001b[0m\u001b[32;1m\u001b[1;3mAction: search image\n",
      "Action Input: https://m.media-amazon.com/images/I/61X0e8jJGQL._AC_SL1500_.jpg\u001b[0m\u001b[33;1m\u001b[1;3m['You are here: Stores; Current: Gallery. Gallery. Gallery will display up to 8 images. Gallery Requirements. Tile Type, Max Text Size. Heading, 1 Line.', 'https://images-na.ssl-images-amazon.com/images/I/41c-Ua-m7UL._SS300_.jpg. One person found this helpful. Helpful. Share. Report. Top of page.', 'Online shopping from a great selection at Media + Store ... Amazon Photos · Prime Video · Sell products on Amazon · Subscribe & Save · The Drop ...', 'New iPad 9.7 inch 2018 2017/ iPad Air 1/2 Case -... 4.0 out of 5 stars14. Currently unavailable.', 'A (x1). H (x1). B (x1). 6mm. M. (x1). 4mm. L. (x1). C (x1). D (x1). J (x1). G (x5). I (x1). E (x1). F (x1). K (x2). M4x12. M-A. (x4). M5x12 (x4).', 'https://m.media-amazon.com/images/I/61LJjq+vBvS._AC_SL1500_.jpg. USD$29.30. Price when purchased online. Image 1 of https://m.media-amazon.com/images.', 'Page 1.']\u001b[0m\u001b[32;1m\u001b[1;3mFinal Answer: $20-$30\u001b[0m\n",
      "\n",
      "\u001b[1m> Finished chain.\u001b[0m\n"
     ]
    },
    {
     "data": {
      "text/plain": [
       "{'input': 'what is the price range of this iHaHa Fire Truck Toys for 1 2 3 4 5 6 Years Old Boys Toddler, 5 in 1 Kids Carrier Toy Birthday, Car Friction Power Toys with Light Sound ',\n",
       " 'output': '$20-$30'}"
      ]
     },
     "execution_count": 254,
     "metadata": {},
     "output_type": "execute_result"
    }
   ],
   "source": [
    "# Run the agent\n",
    "serp_agent_executor.invoke({\"input\": f\"what is the price range of this {description} \"})"
   ]
  }
 ],
 "metadata": {
  "kernelspec": {
   "display_name": ".venv",
   "language": "python",
   "name": "python3"
  },
  "language_info": {
   "codemirror_mode": {
    "name": "ipython",
    "version": 3
   },
   "file_extension": ".py",
   "mimetype": "text/x-python",
   "name": "python",
   "nbconvert_exporter": "python",
   "pygments_lexer": "ipython3",
   "version": "3.11.5"
  }
 },
 "nbformat": 4,
 "nbformat_minor": 2
}
